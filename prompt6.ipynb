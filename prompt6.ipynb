{
 "cells": [
  {
   "cell_type": "markdown",
   "id": "1e6ec320-1403-4392-b48e-eb7f1225dd57",
   "metadata": {},
   "source": [
    "Create a Jupyter Notebook where, in separate cells, you define functions that return sin(x) and cos(x).  Use Markdown cells to comment on your Notebook, and describe what each function does. Create a third Python cell that will tabulate sin(x) and cos(x) using these previously defined functions vs. x, where x is tabulated between 0 and 2 with a thousand entries. Write a fourth Python cell that will use a for loop to print out the first 10 values of x, sin(x), and cos(x) in columns."
   ]
  },
  {
   "cell_type": "code",
   "execution_count": 9,
   "id": "ec46168c-1be9-4fa3-b623-e828c4a34646",
   "metadata": {},
   "outputs": [],
   "source": [
    "import numpy as np\n",
    "def sin():\n",
    "    return sin_values"
   ]
  },
  {
   "cell_type": "code",
   "execution_count": 10,
   "id": "97d4b718-0e3c-467b-8e5d-2e9c76fdcbda",
   "metadata": {},
   "outputs": [],
   "source": [
    "def cos():\n",
    "    return cos_values"
   ]
  },
  {
   "cell_type": "markdown",
   "id": "87f44913-f750-4a95-8951-548786020cd5",
   "metadata": {},
   "source": [
    "these two functions return the sin and cos values of all 1000 x values 0 to 2"
   ]
  },
  {
   "cell_type": "code",
   "execution_count": 11,
   "id": "f2420461-2fdd-465b-95e2-ab0767f4afac",
   "metadata": {},
   "outputs": [],
   "source": [
    "x_values = np.linspace(0, 2, 1000)\n",
    "sin_values = np.sin(x_values)\n",
    "cos_values = np.cos(x_values)"
   ]
  },
  {
   "cell_type": "markdown",
   "id": "49df32d1-b684-4764-8d75-eeecacd001d4",
   "metadata": {},
   "source": [
    "this creates an array of x values from 0 to 2 that has 1000 entries"
   ]
  },
  {
   "cell_type": "code",
   "execution_count": 33,
   "id": "aa37897d-7a51-44d6-8e05-8f03b12693a7",
   "metadata": {},
   "outputs": [
    {
     "name": "stdout",
     "output_type": "stream",
     "text": [
      "x       sin(x)  cos(x)\n",
      "0.00000 0.00000 1.00000\n",
      "0.00200 0.00200 1.00000\n",
      "0.00400 0.00400 0.99999\n",
      "0.00601 0.00601 0.99998\n",
      "0.00801 0.00801 0.99997\n",
      "0.01001 0.01001 0.99995\n",
      "0.01201 0.01201 0.99993\n",
      "0.01401 0.01401 0.99990\n",
      "0.01602 0.01602 0.99987\n",
      "0.01802 0.01802 0.99984\n"
     ]
    }
   ],
   "source": [
    "print(f\"{'x':7} {'sin(x)':7} {'cos(x)'}\")\n",
    "for i in range(10):\n",
    "    print(f\"{x_values[i]:1.5f} {sin_values[i]:1.5f} {cos_values[i]:1.5f}\")"
   ]
  },
  {
   "cell_type": "markdown",
   "id": "a6a55b74-fad3-4256-8c29-b00b7380ad75",
   "metadata": {},
   "source": [
    "this for loop iterates 10 times and prints out the x values, the sin of the x values, and the cosine of the x values. because it only loops 10 times, only the first ten values are printed. for the titles of each columnn i added space between each one so that they would line up with the beginning of each column, which i also formatted so that they would be the same length and form clean columns. "
   ]
  }
 ],
 "metadata": {
  "kernelspec": {
   "display_name": "ASTR 19",
   "language": "python",
   "name": "astr19"
  },
  "language_info": {
   "codemirror_mode": {
    "name": "ipython",
    "version": 3
   },
   "file_extension": ".py",
   "mimetype": "text/x-python",
   "name": "python",
   "nbconvert_exporter": "python",
   "pygments_lexer": "ipython3",
   "version": "3.10.12"
  }
 },
 "nbformat": 4,
 "nbformat_minor": 5
}
